{
 "cells": [
  {
   "cell_type": "code",
   "execution_count": 4,
   "id": "ea92ce3b-66fe-473e-b7b3-12aa31ae647e",
   "metadata": {},
   "outputs": [],
   "source": [
    "import pandas as pd\n",
    "import numpy as np\n",
    "import matplotlib.pyplot as plt\n",
    "\n",
    "from sklearn.datasets import make_regression\n",
    "import plotly.express as px\n",
    "import plotly.graph_objects as go\n",
    "\n",
    "from sklearn.metrics import mean_absolute_error, mean_squared_error, r2_score"
   ]
  },
  {
   "cell_type": "code",
   "execution_count": 5,
   "id": "e9b78027-f14a-45bc-a406-d8a4c1c429f8",
   "metadata": {},
   "outputs": [],
   "source": [
    "x ,y = make_regression(n_samples=100 , n_features=2 , n_informative=2 , n_targets=1 , noise=50)"
   ]
  },
  {
   "cell_type": "code",
   "execution_count": 7,
   "id": "e5b3137a-9ab0-4f93-b720-6d6f16362ee9",
   "metadata": {},
   "outputs": [],
   "source": [
    "df = pd.DataFrame({'feature1':x[:,0],'feature2':x[:,1],'target':y})"
   ]
  },
  {
   "cell_type": "code",
   "execution_count": null,
   "id": "53187d16-1608-460e-b927-e07167cac3b7",
   "metadata": {},
   "outputs": [],
   "source": []
  }
 ],
 "metadata": {
  "kernelspec": {
   "display_name": "Python 3 (ipykernel)",
   "language": "python",
   "name": "python3"
  },
  "language_info": {
   "codemirror_mode": {
    "name": "ipython",
    "version": 3
   },
   "file_extension": ".py",
   "mimetype": "text/x-python",
   "name": "python",
   "nbconvert_exporter": "python",
   "pygments_lexer": "ipython3",
   "version": "3.10.11"
  }
 },
 "nbformat": 4,
 "nbformat_minor": 5
}
